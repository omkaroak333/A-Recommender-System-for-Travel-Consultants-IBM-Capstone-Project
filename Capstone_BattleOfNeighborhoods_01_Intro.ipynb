{
 "cells": [
  {
   "cell_type": "markdown",
   "metadata": {},
   "source": [
    "# Capstone Project - The Battle of the Neighborhoods (Introduction)\n",
    "### Applied Data Science Capstone by IBM/Coursera"
   ]
  },
  {
   "cell_type": "markdown",
   "metadata": {},
   "source": [
    " "
   ]
  },
  {
   "cell_type": "markdown",
   "metadata": {},
   "source": [
    " ## Table of contents\n",
    "* [Introduction: Business Problem](#introduction)\n",
    "* [Data we need](#data)\n",
    "* [Footer Note](#footer)"
   ]
  },
  {
   "cell_type": "markdown",
   "metadata": {},
   "source": [
    "# A Recommender System for Travel Consultants"
   ]
  },
  {
   "cell_type": "markdown",
   "metadata": {},
   "source": [
    " "
   ]
  },
  {
   "cell_type": "markdown",
   "metadata": {},
   "source": [
    "## Part 1: Business Problem <a name=\"introduction\"></a>"
   ]
  },
  {
   "cell_type": "markdown",
   "metadata": {},
   "source": [
    "###### Our clients are Travel Consultants from London. They specialize in travel and stay arrangements. Here's a note from their briefing ...\n"
   ]
  },
  {
   "cell_type": "markdown",
   "metadata": {},
   "source": [
    "We, Travellers Inc., are thrilled to announce our merger with \"Hoteliers Everywhere Inc.\", a chain of Hotels across London. Our expansion has enabled us to reach our client across every neighbourhood in our great city of London. We are now expecting our clients list to increase by a whopping 300% by next month (based on the enquiries we have received). Hopefully, the business will only grow from there. \n",
    "\n",
    "Until now, the customers were recommended of a place to stay based on the Hotels available to us. We have occasionally received suggestions from the customers that they need a Hotel booked collectively near to their places of interest. We have worked our best with their suggestions, but now that we are expanding, we will now need a system that will recommend us a place based on the enquiries.\n",
    "\n",
    "Here's the problem, we may have varying customers looking for varing needs. There may be a customer new to the city looking to explore the city. These could be the ones looking for city specific monuments (say, Museums, Art Gallery etc). Then there's the sport enthusiast looking for Gyms, Playgrounds etc. \n",
    "\n",
    "Going by this, could we have a recommender system that will suggest the best area to stay based on their points of interest. Of course, the recommendation needs to be re-runnable. So we could generate a report for one particular customer, refresh and change the parameters to regenerate another report for another client.  \n",
    "\n",
    "Thank you\n"
   ]
  },
  {
   "cell_type": "markdown",
   "metadata": {},
   "source": [
    "   "
   ]
  },
  {
   "cell_type": "markdown",
   "metadata": {},
   "source": [
    "## Part 2: Data We Need <a name=\"data\"></a>"
   ]
  },
  {
   "cell_type": "markdown",
   "metadata": {},
   "source": [
    "After a formal meeting with the clients we have understood the requirements and will go ahead with the recommender system. We have discussed the solution that will be provided by us. The clients have agreed to the following points from us ...\n",
    "\n",
    "We will make use of geo-locational information for specific borough and the neighborhoods in London. We will fetch a list of areas in the city, and technically generate the latitude and longitude numbers of that borough. \n",
    "This wikipedia page contains a list of areas in London...\n",
    "https://en.wikipedia.org/wiki/List_of_areas_of_London\n",
    "We will scrape through this page and generate a list of areas, neighborhoods. The resulting data will be used for further analysis.\n",
    "\n",
    "We will then use \"Foursquare\" locational information. Foursquare is a technology company that uses location intelligence to build meaningful consumer experiences and business solutions. Using this API, we will generate a list of common venues present in areas specified (for the list scraped from the wikipedia page). \n",
    "\n",
    "We will assign a list of parameters and work through them on the list of neigborhoods generated through the Foursquare API, We will then generate a scoring system for each area based on the client parameters per neighborhood. From the sorted list of this scoring system, we will take a list of top 5 areas that are closest to the entities as specified by the client parameters. This result will be presented to the clients as the most optimum area to stay according to the parameters entered.\n",
    "\n",
    "Further, using the Foursquare API, we will also generate a list of Hotels that exist in our top 5 optimum areas. This results will also be presented to the clients as the most optimum Hotels that the clients can stay (which are most near to their points of interest)\n",
    "\n"
   ]
  },
  {
   "cell_type": "markdown",
   "metadata": {},
   "source": [
    " "
   ]
  },
  {
   "cell_type": "markdown",
   "metadata": {},
   "source": [
    " "
   ]
  },
  {
   "cell_type": "markdown",
   "metadata": {},
   "source": [
    " <a name=\"footer\"></a>"
   ]
  },
  {
   "cell_type": "markdown",
   "metadata": {},
   "source": [
    "Note: This introductory presentation is part of Coursera's Capstone Project for the \"Applied Data Science Capstone\" course. This course is part of the \"IBM Data Science Professional Certificate\" specialization.\n",
    "\n",
    "Thank you for reviewing my work. "
   ]
  },
  {
   "cell_type": "markdown",
   "metadata": {},
   "source": [
    " "
   ]
  },
  {
   "cell_type": "code",
   "execution_count": null,
   "metadata": {},
   "outputs": [],
   "source": []
  }
 ],
 "metadata": {
  "kernelspec": {
   "display_name": "Python 3",
   "language": "python",
   "name": "python3"
  },
  "language_info": {
   "codemirror_mode": {
    "name": "ipython",
    "version": 3
   },
   "file_extension": ".py",
   "mimetype": "text/x-python",
   "name": "python",
   "nbconvert_exporter": "python",
   "pygments_lexer": "ipython3",
   "version": "3.7.1"
  }
 },
 "nbformat": 4,
 "nbformat_minor": 2
}
